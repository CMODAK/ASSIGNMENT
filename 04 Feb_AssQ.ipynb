{
 "cells": [
  {
   "cell_type": "markdown",
   "id": "2c8fcd49-4cad-45ca-a282-7860e428d0a6",
   "metadata": {},
   "source": [
    "#Q.1"
   ]
  },
  {
   "cell_type": "code",
   "execution_count": 21,
   "id": "35936c48-012f-4138-aba5-d3b4dcd77ce4",
   "metadata": {},
   "outputs": [],
   "source": [
    "l7=[(\"Sachine Tendulkar\",34357),(\"Ricky Ponting\",27483),(\"Jack Kallis\",25534),(\"Virat Kohli\",24936)]"
   ]
  },
  {
   "cell_type": "code",
   "execution_count": 22,
   "id": "238700c7-1a5c-4f52-9c4c-5ceb343d9f79",
   "metadata": {},
   "outputs": [
    {
     "name": "stdout",
     "output_type": "stream",
     "text": [
      "[('Virat Kohli', 24936), ('Jack Kallis', 25534), ('Ricky Ponting', 27483), ('Sachine Tendulkar', 34357)]\n"
     ]
    }
   ],
   "source": [
    "l1=sorted(l7,key=lambda x:x[1])\n",
    "print(l1)"
   ]
  },
  {
   "cell_type": "markdown",
   "id": "c40158de-36f9-41a0-a395-a37051b0a0c7",
   "metadata": {},
   "source": [
    "#Q.2"
   ]
  },
  {
   "cell_type": "code",
   "execution_count": 23,
   "id": "a04bb42c-43db-4dbd-bc05-76595d6168e4",
   "metadata": {},
   "outputs": [],
   "source": [
    "l=[1,2,3,4,5,6,7,8,9,10]"
   ]
  },
  {
   "cell_type": "code",
   "execution_count": 24,
   "id": "67856d63-e8b7-4af8-a547-a1c1ffa6f045",
   "metadata": {},
   "outputs": [
    {
     "data": {
      "text/plain": [
       "[1, 4, 9, 16, 25, 36, 49, 64, 81, 100]"
      ]
     },
     "execution_count": 24,
     "metadata": {},
     "output_type": "execute_result"
    }
   ],
   "source": [
    "list(map(lambda x:x**2,l))"
   ]
  },
  {
   "cell_type": "markdown",
   "id": "441fc4e5-d4b6-49ea-a780-905ab04ca45c",
   "metadata": {},
   "source": [
    "#Q.4"
   ]
  },
  {
   "cell_type": "code",
   "execution_count": 25,
   "id": "173aa78d-e5ec-4e27-8fc0-e75d53927992",
   "metadata": {},
   "outputs": [],
   "source": [
    "l1=list(range(1,26))"
   ]
  },
  {
   "cell_type": "code",
   "execution_count": 26,
   "id": "e5136bb6-019f-46fb-9b86-72d3b9e2fa55",
   "metadata": {},
   "outputs": [],
   "source": [
    "from functools import reduce"
   ]
  },
  {
   "cell_type": "code",
   "execution_count": 27,
   "id": "6e0c1209-c809-4424-966e-80342a447800",
   "metadata": {},
   "outputs": [
    {
     "data": {
      "text/plain": [
       "15511210043330985984000000"
      ]
     },
     "execution_count": 27,
     "metadata": {},
     "output_type": "execute_result"
    }
   ],
   "source": [
    "reduce(lambda x,y:x*y,l1)"
   ]
  },
  {
   "cell_type": "markdown",
   "id": "7db16740-e541-44d5-ab57-d0dcdf46487c",
   "metadata": {},
   "source": [
    "#Q.5"
   ]
  },
  {
   "cell_type": "code",
   "execution_count": 28,
   "id": "b17537cf-9c41-4e2e-8f40-7098b0051e34",
   "metadata": {},
   "outputs": [],
   "source": [
    "l2=[2,3,6,9,27,60,90,120,55,46]"
   ]
  },
  {
   "cell_type": "code",
   "execution_count": 29,
   "id": "efeaed42-ccb7-4020-99d3-ca7992f50d28",
   "metadata": {},
   "outputs": [
    {
     "data": {
      "text/plain": [
       "[6, 60, 90, 120]"
      ]
     },
     "execution_count": 29,
     "metadata": {},
     "output_type": "execute_result"
    }
   ],
   "source": [
    "list(filter(lambda y:y%6==0,l2))"
   ]
  },
  {
   "cell_type": "markdown",
   "id": "9d7ddc90-fcc9-47cd-88a1-1d3d5b8dfb83",
   "metadata": {},
   "source": [
    "#Q.3"
   ]
  },
  {
   "cell_type": "code",
   "execution_count": 30,
   "id": "45069a42-1513-4798-b4dd-e1b14dcd0a4a",
   "metadata": {},
   "outputs": [],
   "source": [
    "l3=[1,2,3,4,5,6,7,8,9,10]"
   ]
  },
  {
   "cell_type": "code",
   "execution_count": 31,
   "id": "d829f37e-3d9a-4f04-bd25-34823d4fa495",
   "metadata": {},
   "outputs": [
    {
     "data": {
      "text/plain": [
       "('1', '2', '3', '4', '5', '6', '7', '8', '9', '10')"
      ]
     },
     "execution_count": 31,
     "metadata": {},
     "output_type": "execute_result"
    }
   ],
   "source": [
    "tuple(map(lambda z:str(z),l3))"
   ]
  },
  {
   "cell_type": "markdown",
   "id": "bd3998a1-f00e-4421-84e2-55452816bccf",
   "metadata": {},
   "source": [
    "#Q.6"
   ]
  },
  {
   "cell_type": "code",
   "execution_count": 32,
   "id": "8b9ff03e-029e-42d3-bc9a-48b14f880684",
   "metadata": {},
   "outputs": [],
   "source": [
    "p=[\"python\",\"php\",\"aba\",\"radar\",\"level\"]"
   ]
  },
  {
   "cell_type": "code",
   "execution_count": 33,
   "id": "6b404b91-ed7e-4a6c-a1c9-07c42ad3bb89",
   "metadata": {},
   "outputs": [
    {
     "name": "stdout",
     "output_type": "stream",
     "text": [
      "['php', 'aba', 'radar', 'level']\n"
     ]
    }
   ],
   "source": [
    "pal=list(filter(lambda x: x==x[::-1],p))\n",
    "print(pal)"
   ]
  }
 ],
 "metadata": {
  "kernelspec": {
   "display_name": "Python 3 (ipykernel)",
   "language": "python",
   "name": "python3"
  },
  "language_info": {
   "codemirror_mode": {
    "name": "ipython",
    "version": 3
   },
   "file_extension": ".py",
   "mimetype": "text/x-python",
   "name": "python",
   "nbconvert_exporter": "python",
   "pygments_lexer": "ipython3",
   "version": "3.10.8"
  }
 },
 "nbformat": 4,
 "nbformat_minor": 5
}
