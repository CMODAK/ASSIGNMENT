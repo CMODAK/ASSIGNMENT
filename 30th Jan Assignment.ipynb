{
 "cells": [
  {
   "cell_type": "code",
   "execution_count": 1,
   "id": "98fc6d14-bad9-4dcb-aa78-53cabe6a6b84",
   "metadata": {},
   "outputs": [],
   "source": [
    "#Q.1"
   ]
  },
  {
   "cell_type": "code",
   "execution_count": 2,
   "id": "1faef368-cd2e-47a9-829f-f4668b41e1ea",
   "metadata": {},
   "outputs": [
    {
     "name": "stdin",
     "output_type": "stream",
     "text": [
      "enter the percentage 65\n"
     ]
    },
    {
     "name": "stdout",
     "output_type": "stream",
     "text": [
      "Grade is C\n"
     ]
    }
   ],
   "source": [
    "n=int(input(\"enter the percentage\"))\n",
    "if n>90:\n",
    "    print(\"Grade is A\")\n",
    "elif n>80 and n<=90:\n",
    "    print(\"Grade is B\")\n",
    "elif n>=60 and n<=80:\n",
    "    print(\"Grade is C\")\n",
    "elif n<60:\n",
    "    print(\"Grade is D\")\n",
    "    "
   ]
  },
  {
   "cell_type": "code",
   "execution_count": 3,
   "id": "4325fa44-9a0f-4577-8b9a-2cece8a6ef47",
   "metadata": {},
   "outputs": [
    {
     "name": "stdin",
     "output_type": "stream",
     "text": [
      "enter the cost price of bike 560000\n"
     ]
    },
    {
     "name": "stdout",
     "output_type": "stream",
     "text": [
      "road tax is 15%\n"
     ]
    }
   ],
   "source": [
    "#Q.2\n",
    "c=int(input(\"enter the cost price of bike\"))\n",
    "if c<=50000:\n",
    "    print(\"road tax is 5%\")\n",
    "elif c>50000 and c<=100000:\n",
    "    print(\"road tax is 10%\")\n",
    "else:\n",
    "    print(\"road tax is 15%\")\n",
    "    \n",
    "    \n",
    "    "
   ]
  },
  {
   "cell_type": "code",
   "execution_count": 10,
   "id": "dd90e8ef-f4c0-41eb-b875-eb7be5b02dde",
   "metadata": {},
   "outputs": [],
   "source": [
    "#Q.3"
   ]
  },
  {
   "cell_type": "code",
   "execution_count": 2,
   "id": "55e4161b-2a96-435b-a2f7-56b2854eb94b",
   "metadata": {},
   "outputs": [
    {
     "name": "stdin",
     "output_type": "stream",
     "text": [
      "enter the name of city Agra\n"
     ]
    },
    {
     "name": "stdout",
     "output_type": "stream",
     "text": [
      "Monument is Taj Mahal\n"
     ]
    }
   ],
   "source": [
    "m=input(\"enter the name of city\")\n",
    "if m==\"Delhi\":\n",
    "    print(\"Monument is Red Fort\")\n",
    "elif m==\"Agra\":\n",
    "    print(\"Monument is Taj Mahal\")\n",
    "elif m==\"Jaipur\":\n",
    "    print(\"Monument is Jal Mahal\")"
   ]
  },
  {
   "cell_type": "code",
   "execution_count": null,
   "id": "7358e8da-2b13-49d0-b807-ee860f5ed55c",
   "metadata": {},
   "outputs": [],
   "source": [
    "#Q.4"
   ]
  },
  {
   "cell_type": "code",
   "execution_count": 1,
   "id": "b1592c43-ac97-404f-a962-61c4f4b344f5",
   "metadata": {},
   "outputs": [
    {
     "name": "stdin",
     "output_type": "stream",
     "text": [
      "enter the number: 150\n"
     ]
    },
    {
     "name": "stdout",
     "output_type": "stream",
     "text": [
      "3\n"
     ]
    }
   ],
   "source": [
    "num=int(input(\"enter the number:\"))\n",
    "count=0\n",
    "while True:\n",
    "    num=num/3\n",
    "    count=count+1\n",
    "    if num<=10:\n",
    "        break\n",
    "print(count)  \n"
   ]
  },
  {
   "cell_type": "code",
   "execution_count": null,
   "id": "6c870e95-0c49-472f-8ad7-1b76cd59f056",
   "metadata": {},
   "outputs": [],
   "source": [
    "#Q.5"
   ]
  },
  {
   "cell_type": "code",
   "execution_count": 2,
   "id": "3ba7273c-1e25-4295-9736-67af11cde03c",
   "metadata": {},
   "outputs": [
    {
     "data": {
      "text/plain": [
       "[2, 4, 6, 8, 10, 12, 14, 16, 18, 20]"
      ]
     },
     "execution_count": 2,
     "metadata": {},
     "output_type": "execute_result"
    }
   ],
   "source": [
    "#while loop is used for create a loop to execute a block of code till the time the codition is true.\n",
    "#as eg. to print the number multiple of 2 and less than 20\n",
    "l=[]\n",
    "i=1\n",
    "while i<=20:\n",
    "    if i%2==0:\n",
    "        l.append(i)\n",
    "    i=i+1\n",
    "l"
   ]
  },
  {
   "cell_type": "code",
   "execution_count": 1,
   "id": "a8deffc8-5763-410a-8487-f1bd2c51f81e",
   "metadata": {},
   "outputs": [
    {
     "name": "stdout",
     "output_type": "stream",
     "text": [
      "1 \n",
      "1 2 \n",
      "1 2 3 \n",
      "1 2 3 4 \n",
      "1 2 3 4 5 \n"
     ]
    }
   ],
   "source": [
    "#Q.6 use nested while loop to display 3 different pattern\n",
    "i=1\n",
    "while i<=5:\n",
    "    j=1\n",
    "    while j<=i:\n",
    "        print(j,end=\" \")\n",
    "        j=j+1\n",
    "    print()\n",
    "    i=i+1\n"
   ]
  },
  {
   "cell_type": "code",
   "execution_count": 4,
   "id": "5e0b05eb-85be-4417-8e85-0f180613aefe",
   "metadata": {},
   "outputs": [
    {
     "name": "stdout",
     "output_type": "stream",
     "text": [
      "1 2 3 4 5 \n",
      "1 2 3 4 \n",
      "1 2 3 \n",
      "1 2 \n",
      "1 \n"
     ]
    }
   ],
   "source": [
    "i=5\n",
    "while i<=5 and i>0:\n",
    "    j=1\n",
    "    while j<=i:\n",
    "        print(j,end=\" \")\n",
    "        j=j+1\n",
    "    print()\n",
    "    i=i-1"
   ]
  },
  {
   "cell_type": "code",
   "execution_count": 5,
   "id": "e710d2a6-1dfd-42da-a472-f0eaedd01eaf",
   "metadata": {},
   "outputs": [
    {
     "name": "stdout",
     "output_type": "stream",
     "text": [
      "1 \n",
      "2 2 \n",
      "3 3 3 \n",
      "4 4 4 4 \n",
      "5 5 5 5 5 \n"
     ]
    }
   ],
   "source": [
    "i=1\n",
    "while i<=5:\n",
    "    j=1\n",
    "    while j<=i:\n",
    "        print(i,end=\" \")\n",
    "        j=j+1\n",
    "    print()\n",
    "    i=i+1"
   ]
  },
  {
   "cell_type": "code",
   "execution_count": null,
   "id": "d5f1f786-f51d-466a-a0a1-2d306b918365",
   "metadata": {},
   "outputs": [],
   "source": [
    "#Q.7/8"
   ]
  },
  {
   "cell_type": "code",
   "execution_count": 4,
   "id": "ef663bb8-1d42-4dbc-bc16-8b80f5146246",
   "metadata": {},
   "outputs": [
    {
     "data": {
      "text/plain": [
       "[10, 9, 8, 7, 6, 5, 4, 3, 2, 1]"
      ]
     },
     "execution_count": 4,
     "metadata": {},
     "output_type": "execute_result"
    }
   ],
   "source": [
    "l=[]\n",
    "i=1\n",
    "while i<=10:\n",
    "    l.append(i)\n",
    "    i=i+1\n",
    "    l.sort(reverse=True)\n",
    "l"
   ]
  },
  {
   "cell_type": "code",
   "execution_count": null,
   "id": "5ca87d94-dc8d-4c7d-ada3-edcabae59177",
   "metadata": {},
   "outputs": [],
   "source": [
    "  "
   ]
  },
  {
   "cell_type": "code",
   "execution_count": null,
   "id": "1815b3d2-a17f-4264-a54c-306aad9e5f7c",
   "metadata": {},
   "outputs": [],
   "source": []
  }
 ],
 "metadata": {
  "kernelspec": {
   "display_name": "Python 3 (ipykernel)",
   "language": "python",
   "name": "python3"
  },
  "language_info": {
   "codemirror_mode": {
    "name": "ipython",
    "version": 3
   },
   "file_extension": ".py",
   "mimetype": "text/x-python",
   "name": "python",
   "nbconvert_exporter": "python",
   "pygments_lexer": "ipython3",
   "version": "3.10.8"
  }
 },
 "nbformat": 4,
 "nbformat_minor": 5
}
