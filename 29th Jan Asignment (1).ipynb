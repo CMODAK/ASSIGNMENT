{
 "cells": [
  {
   "cell_type": "markdown",
   "id": "61e9d73a-08a7-4322-baf1-d75ee791e596",
   "metadata": {},
   "source": [
    "Q.1) Who developed Python Programming Language?"
   ]
  },
  {
   "cell_type": "raw",
   "id": "908fbb46-1aee-4c61-873f-181197dc2df3",
   "metadata": {},
   "source": [
    "Ans: Python programming language was created by Guido van Rossum."
   ]
  },
  {
   "cell_type": "markdown",
   "id": "ac3540a6-093f-4f43-8f36-cdb5422c2d0c",
   "metadata": {},
   "source": [
    "Q.2) Which type of programming does Python support?"
   ]
  },
  {
   "cell_type": "markdown",
   "id": "17688f8f-6ed1-4c80-8f81-1a0932306aab",
   "metadata": {},
   "source": [
    "Ans: Python is a high-level, interpreted programming language that supports multiple programming paradigms, including:\n",
    "\n",
    "Object-oriented programming (OOP)\n",
    "Procedural programming\n",
    "Functional programming\n",
    "Imperative programming\n",
    "Event-driven programming\n",
    "Aspect-oriented programming\n",
    "Metaprogramming\n",
    "\n",
    "Python's flexibility in supporting multiple programming paradigms makes it a versatile language suitable for a wide range of applications, from web development and scientific computing to artificial intelligence and machine learning."
   ]
  },
  {
   "cell_type": "markdown",
   "id": "45f26d26-6f9b-4d10-9364-5ced7c46a5b2",
   "metadata": {},
   "source": [
    "Q.3) Is Python case sensitive when dealing with identifiers?"
   ]
  },
  {
   "cell_type": "raw",
   "id": "b2d16453-8d8d-4960-82dd-9dbf4d86780b",
   "metadata": {},
   "source": [
    "Ans: Yes, Python is a case-sensitive language."
   ]
  },
  {
   "cell_type": "markdown",
   "id": "dc25875d-d859-443b-b480-9882b546a991",
   "metadata": {},
   "source": [
    "Q.4) What is the correct extension of Python file?"
   ]
  },
  {
   "cell_type": "markdown",
   "id": "1080ea8e-86f1-48a5-a732-46c0d16a5039",
   "metadata": {},
   "source": [
    "Ans:The correct extension of a Python file is \".py\"."
   ]
  },
  {
   "cell_type": "markdown",
   "id": "857244a5-4e55-4f1d-a2d5-2f6e57179fa3",
   "metadata": {},
   "source": [
    "Q.5) Is Python code compiled or interpreted?"
   ]
  },
  {
   "cell_type": "markdown",
   "id": "93b0e0bb-2fce-413d-b3ea-a68557cc7a48",
   "metadata": {},
   "source": [
    "Ans:Python is an interpreted language"
   ]
  },
  {
   "cell_type": "markdown",
   "id": "6cac7d91-335c-4474-9c3b-5166d13c365d",
   "metadata": {},
   "source": [
    "Q.6) Name a few blocks of code used to define in Python language?"
   ]
  },
  {
   "cell_type": "markdown",
   "id": "8c1a802f-8984-4b50-a948-92a897350c73",
   "metadata": {},
   "source": [
    "Ans:Python,code blocks are defined using indentation rather than braces or other symbols. Some examples of code blocks in Python include:\n",
    "1.Function blocks:They start with the \"def\" keyword, followed by the name of the function, and end with a colon.\n",
    "2.Conditional blocks:They start with keywords like \"if\", \"elif\" (else if), and \"else\", and end with a colon.\n",
    "3.Loop blocks:They start with keywords like \"for\" or \"while\", followed by the condition or loop variable, and end with a colon.\n",
    "    "
   ]
  },
  {
   "cell_type": "markdown",
   "id": "11850420-f9fa-4845-b712-4fd38b3111f8",
   "metadata": {},
   "source": [
    "Q.7)State a character used to give single-line comments in Python?"
   ]
  },
  {
   "cell_type": "markdown",
   "id": "c62b7d20-3063-4967-9068-66283c344e0e",
   "metadata": {},
   "source": [
    "Ans:In Python, you can use the hash symbol (#) to give single-line comments."
   ]
  },
  {
   "cell_type": "markdown",
   "id": "bec78ff4-a6b3-48ef-a989-f9a9a991272f",
   "metadata": {},
   "source": [
    "Q.8)Mention functions which can help us to find out the version of Python that we are correctly work on?"
   ]
  },
  {
   "cell_type": "markdown",
   "id": "289dae3b-a701-4fa9-87f3-79d48ec3ea4a",
   "metadata": {},
   "source": [
    "Ans:1.sys module:\"sys\" module to get information about the Python interpreter, including the version number. To get the version number, you can use the sys.version attribute.\n",
    "import sys\n",
    "print(sys.version):\n",
    "2.platform module: You can also use the platform module to get information about the operating system and hardware, as well as the Python version. To get the version number, you can use the platform.python_version() function.\n",
    "import platform\n",
    "print(platform.python_version())"
   ]
  },
  {
   "cell_type": "markdown",
   "id": "64295552-6944-48e8-9809-6bc56dd4a5a4",
   "metadata": {},
   "source": [
    "Q.9)Python supports the creation of anonymous functions at runtime,using a construct called..."
   ]
  },
  {
   "cell_type": "markdown",
   "id": "fed06854-808d-4530-bbba-e10e2003a72f",
   "metadata": {},
   "source": [
    "Ans:Python supports the creation of anonymous functions at runtime using a construct called \"lambda\" expressions or lambda functions."
   ]
  },
  {
   "cell_type": "markdown",
   "id": "343e49e5-5d47-4ff8-9d94-8adc8154cc99",
   "metadata": {},
   "source": [
    "Q.10)What does PIP stand for python?"
   ]
  },
  {
   "cell_type": "markdown",
   "id": "ecd59c8d-989a-4c68-94a8-3436c675147d",
   "metadata": {},
   "source": [
    "Ans:Preferred Installer Program"
   ]
  },
  {
   "cell_type": "markdown",
   "id": "678b5022-1f71-404d-abea-6f98943c9e8f",
   "metadata": {},
   "source": [
    "Q.11)Mention a few built-in function n python?"
   ]
  },
  {
   "cell_type": "markdown",
   "id": "705b9ebc-614f-41d4-804a-4d43ee2f647c",
   "metadata": {},
   "source": [
    "print(): Used to print text or values to the console.\n",
    "\n",
    "type(): Returns the type of an object.\n",
    "\n",
    "len(): Returns the length of an object.\n",
    "\n",
    "input(): Used to get input from the user via the console.\n",
    "\n",
    "range(): Used to generate a sequence of numbers."
   ]
  },
  {
   "cell_type": "markdown",
   "id": "140603b0-b17e-4a5d-b158-843b6dae2b23",
   "metadata": {},
   "source": [
    "Q.12)What is the maximum possible length of an identifier in python?"
   ]
  },
  {
   "cell_type": "markdown",
   "id": "caf14b2c-3648-452b-9c04-4c0b6dc17817",
   "metadata": {},
   "source": [
    "Ans:the maximum length of an identifier is very large and unlikely to be reached in normal usage. The Python Style Guide (PEP 8) recommends keeping identifier names to a maximum of 79 characters, but this is only a convention and not a hard limit."
   ]
  },
  {
   "cell_type": "markdown",
   "id": "ffd2a03d-e96e-48ee-8ac6-15fcc4f0a87f",
   "metadata": {},
   "source": [
    "Q.13)What are the benefits of using Python?"
   ]
  },
  {
   "cell_type": "markdown",
   "id": "81f0739d-c671-4fc1-a079-6703c40cdb36",
   "metadata": {},
   "source": [
    "Ans:Easy to Learn and Use: Python has a simple syntax that is easy to understand and learn, making it a great choice for beginners and experienced programmers alike.\n",
    "Versatile: Python is a versatile language that can be used for a wide range of applications, from web development and scientific computing to machine learning and artificial intelligence.\n",
    "Object-Oriented Programming: Python supports object-oriented programming (OOP) paradigms, making it easy to create reusable code and maintain large-scale applications."
   ]
  },
  {
   "cell_type": "markdown",
   "id": "bb1fe719-57b8-4fad-9b8e-9b337c18391a",
   "metadata": {},
   "source": [
    "Q.14)How is memory managed in Python?"
   ]
  },
  {
   "cell_type": "markdown",
   "id": "491c7874-43f3-46a9-ba81-b2b1d62225bc",
   "metadata": {},
   "source": [
    "Ans:Memory management in Python is handled automatically by the language runtime, using a combination of techniques such as reference counting and garbage collection."
   ]
  },
  {
   "cell_type": "markdown",
   "id": "f7c7474d-e79f-43f2-b7b5-0f03b2c65f3c",
   "metadata": {},
   "source": [
    "Q.15)How to install Python on Windows and set path variables?"
   ]
  },
  {
   "cell_type": "markdown",
   "id": "73b69416-9d3f-4853-9496-a71357525e44",
   "metadata": {},
   "source": [
    "Ans: Here are the steps to install Python on Windows and set path variables:\n",
    "\n",
    "1.Download the latest version of Python from the official website (https://www.python.org/downloads/windows/).\n",
    "\n",
    "2.Run the downloaded installer and select the \"Add Python X.X to PATH\" option. This will add the Python installation directory to your system's PATH environment variable.\n",
    "\n",
    "3.Follow the instructions in the installer to complete the installation process.\n",
    "\n",
    "4.Once the installation is complete, open a command prompt and type \"python\" to confirm that Python is installed correctly and the PATH variables are set.\n",
    "\n",
    "5.If you encounter any issues, you can manually set the PATH variables by following these steps:\n",
    "\n",
    "a. Open the \"Environment Variables\" window by typing \"env\" in the Start menu search bar and selecting \"Edit the system environment variables\".\n",
    "\n",
    "b. Click on the \"Environment Variables\" button at the bottom of the window.\n",
    "\n",
    "c. In the \"System Variables\" section, scroll down to find the \"Path\" variable and click on \"Edit\".\n",
    "\n",
    "d. Click on \"New\" and add the path to the Python installation directory (e.g., \"C:\\PythonXX\").\n",
    "\n",
    "e. Click \"OK\" to save the changes and close all windows.\n",
    "\n",
    "f. Open a new command prompt and type \"python\" to confirm that Python is installed correctly and the PATH variables are set."
   ]
  },
  {
   "cell_type": "markdown",
   "id": "0cc30111-b6a9-4a96-a8bb-4a89fb9186f9",
   "metadata": {},
   "source": [
    "Q.16)Is indentation required in python?"
   ]
  },
  {
   "cell_type": "markdown",
   "id": "f53293dc-7aa5-4f95-b4b6-f6c19f1491fe",
   "metadata": {},
   "source": [
    "Yes, indentation is required in Python"
   ]
  }
 ],
 "metadata": {
  "kernelspec": {
   "display_name": "Python 3 (ipykernel)",
   "language": "python",
   "name": "python3"
  },
  "language_info": {
   "codemirror_mode": {
    "name": "ipython",
    "version": 3
   },
   "file_extension": ".py",
   "mimetype": "text/x-python",
   "name": "python",
   "nbconvert_exporter": "python",
   "pygments_lexer": "ipython3",
   "version": "3.10.8"
  }
 },
 "nbformat": 4,
 "nbformat_minor": 5
}
